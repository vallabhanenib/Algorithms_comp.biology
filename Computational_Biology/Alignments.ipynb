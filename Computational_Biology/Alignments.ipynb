{
  "nbformat": 4,
  "nbformat_minor": 0,
  "metadata": {
    "colab": {
      "provenance": []
    },
    "kernelspec": {
      "name": "python3",
      "display_name": "Python 3"
    },
    "language_info": {
      "name": "python"
    }
  },
  "cells": [
    {
      "cell_type": "markdown",
      "source": [
        "Part I: Warm-up alignment table\n",
        "\n",
        "Question:1"
      ],
      "metadata": {
        "id": "UtUq1U0s4NTs"
      }
    },
    {
      "cell_type": "code",
      "source": [
        "import pandas as pd\n",
        "\n",
        "# create a DataFrame\n",
        "table = {'Row 0' : [1,1,1], 'Row 1' : [2,2,2],'Row 2' : [3,3,3]}\n",
        "df = pd.DataFrame(table)\n",
        "df=df.T  \n",
        "# displaying the DataFrame\n",
        "df.style\n"
      ],
      "metadata": {
        "colab": {
          "base_uri": "https://localhost:8080/",
          "height": 143
        },
        "id": "H811Twl_4b_P",
        "outputId": "a0d663f2-9913-4e04-f539-32b2cbc193d9"
      },
      "execution_count": null,
      "outputs": [
        {
          "output_type": "execute_result",
          "data": {
            "text/plain": [
              "<pandas.io.formats.style.Styler at 0x7f4f0cf5dfd0>"
            ],
            "text/html": [
              "<style type=\"text/css\">\n",
              "</style>\n",
              "<table id=\"T_1937a_\" class=\"dataframe\">\n",
              "  <thead>\n",
              "    <tr>\n",
              "      <th class=\"blank level0\" >&nbsp;</th>\n",
              "      <th class=\"col_heading level0 col0\" >0</th>\n",
              "      <th class=\"col_heading level0 col1\" >1</th>\n",
              "      <th class=\"col_heading level0 col2\" >2</th>\n",
              "    </tr>\n",
              "  </thead>\n",
              "  <tbody>\n",
              "    <tr>\n",
              "      <th id=\"T_1937a_level0_row0\" class=\"row_heading level0 row0\" >Row 0</th>\n",
              "      <td id=\"T_1937a_row0_col0\" class=\"data row0 col0\" >1</td>\n",
              "      <td id=\"T_1937a_row0_col1\" class=\"data row0 col1\" >1</td>\n",
              "      <td id=\"T_1937a_row0_col2\" class=\"data row0 col2\" >1</td>\n",
              "    </tr>\n",
              "    <tr>\n",
              "      <th id=\"T_1937a_level0_row1\" class=\"row_heading level0 row1\" >Row 1</th>\n",
              "      <td id=\"T_1937a_row1_col0\" class=\"data row1 col0\" >2</td>\n",
              "      <td id=\"T_1937a_row1_col1\" class=\"data row1 col1\" >2</td>\n",
              "      <td id=\"T_1937a_row1_col2\" class=\"data row1 col2\" >2</td>\n",
              "    </tr>\n",
              "    <tr>\n",
              "      <th id=\"T_1937a_level0_row2\" class=\"row_heading level0 row2\" >Row 2</th>\n",
              "      <td id=\"T_1937a_row2_col0\" class=\"data row2 col0\" >3</td>\n",
              "      <td id=\"T_1937a_row2_col1\" class=\"data row2 col1\" >3</td>\n",
              "      <td id=\"T_1937a_row2_col2\" class=\"data row2 col2\" >3</td>\n",
              "    </tr>\n",
              "  </tbody>\n",
              "</table>\n"
            ]
          },
          "metadata": {},
          "execution_count": 1
        }
      ]
    },
    {
      "cell_type": "code",
      "source": [
        "from tabulate import tabulate\n",
        "data = [[1,1,1], \n",
        "        [2,2,2], \n",
        "        [3,3,3]]\n",
        "\n",
        "  \n",
        "#display table\n",
        "print(tabulate(data))"
      ],
      "metadata": {
        "colab": {
          "base_uri": "https://localhost:8080/"
        },
        "id": "3G6lPymyVadr",
        "outputId": "f263bb3f-a510-43da-d56b-81190015b116"
      },
      "execution_count": null,
      "outputs": [
        {
          "output_type": "stream",
          "name": "stdout",
          "text": [
            "-  -  -\n",
            "1  1  1\n",
            "2  2  2\n",
            "3  3  3\n",
            "-  -  -\n"
          ]
        }
      ]
    },
    {
      "cell_type": "markdown",
      "source": [
        "question 2:\n",
        "\n",
        "for loop to print out the elements in the variable"
      ],
      "metadata": {
        "id": "z7XVSIS4-2b3"
      }
    },
    {
      "cell_type": "code",
      "source": [
        "for i, j in table.items():\n",
        "  print(i,j)"
      ],
      "metadata": {
        "colab": {
          "base_uri": "https://localhost:8080/"
        },
        "id": "tA3uYoZA-6Cj",
        "outputId": "c051a7e1-d345-4ef3-9e39-4601f6b77e75"
      },
      "execution_count": null,
      "outputs": [
        {
          "output_type": "stream",
          "name": "stdout",
          "text": [
            "Row 0 [1, 1, 1]\n",
            "Row 1 [2, 2, 2]\n",
            "Row 2 [3, 3, 3]\n"
          ]
        }
      ]
    },
    {
      "cell_type": "markdown",
      "source": [
        "Question 3:\n",
        "\n",
        "code to change first row to [-1, -1, -1]"
      ],
      "metadata": {
        "id": "1081K4bF0eWe"
      }
    },
    {
      "cell_type": "code",
      "source": [
        "table.update({\"Row 0\":[-1,-1,-1]})\n",
        "print(\"Updated table\")\n",
        "for i,j in table.items():\n",
        "  print(i,j)"
      ],
      "metadata": {
        "colab": {
          "base_uri": "https://localhost:8080/"
        },
        "id": "yPUVJNSBALDG",
        "outputId": "8410773c-f9cb-499f-92a0-c79a4350f2f3"
      },
      "execution_count": null,
      "outputs": [
        {
          "output_type": "stream",
          "name": "stdout",
          "text": [
            "Updated table\n",
            "Row 0 [-1, -1, -1]\n",
            "Row 1 [2, 2, 2]\n",
            "Row 2 [3, 3, 3]\n"
          ]
        }
      ]
    },
    {
      "cell_type": "markdown",
      "source": [
        "Question 4:\n",
        "\n",
        "code to change first column to [-1, -1, -1]"
      ],
      "metadata": {
        "id": "uqrbW_io0tRv"
      }
    },
    {
      "cell_type": "code",
      "source": [
        "table.update({\"Row 1\":[-1,2,2]})\n",
        "table.update({\"Row 2\":[-1,3,3]})\n",
        "print(\"Updated table\")\n",
        "for i,j in table.items():\n",
        "  print(i,j)\n"
      ],
      "metadata": {
        "colab": {
          "base_uri": "https://localhost:8080/"
        },
        "id": "qU42kMsbBLfA",
        "outputId": "fead63bd-2a29-4c76-d36c-fd7aa41625fa"
      },
      "execution_count": null,
      "outputs": [
        {
          "output_type": "stream",
          "name": "stdout",
          "text": [
            "Updated table\n",
            "Row 0 [-1, -1, -1]\n",
            "Row 1 [-1, 2, 2]\n",
            "Row 2 [-1, 3, 3]\n"
          ]
        }
      ]
    },
    {
      "cell_type": "markdown",
      "source": [
        "Question 5:\n",
        "\n",
        "python function to create an alignment table with all values equal to 0"
      ],
      "metadata": {
        "id": "t4-uHadc1AfB"
      }
    },
    {
      "cell_type": "code",
      "source": [
        "from tabulate import tabulate\n",
        "def alignment_table(sequence1,sequence2):\n",
        "  print('sequence 1: ', sequence1 ,'with length of ', len(sequence1))\n",
        "  print('sequence 2: ', sequence2 ,'with length of ', len(sequence2))\n",
        "  print('The initial table dimension 10 and 8 for the sequence alignment is:')\n",
        "  table= [[0,0,0,0,0,0,0,0,0,0] for i in range(len(sequence2)+1)]\n",
        "  print(tabulate(table))\n",
        "\n",
        "alignment_table('AATTATATT', 'ACGTTAT')\n"
      ],
      "metadata": {
        "colab": {
          "base_uri": "https://localhost:8080/"
        },
        "id": "oRwY9kmOEzfl",
        "outputId": "c6bc252f-a7c6-407a-8444-2e0375c289cd"
      },
      "execution_count": null,
      "outputs": [
        {
          "output_type": "stream",
          "name": "stdout",
          "text": [
            "sequence 1:  AATTATATT with length of  9\n",
            "sequence 2:  ACGTTAT with length of  7\n",
            "The initial table dimension 10 and 8 for the sequence alignment is:\n",
            "-  -  -  -  -  -  -  -  -  -\n",
            "0  0  0  0  0  0  0  0  0  0\n",
            "0  0  0  0  0  0  0  0  0  0\n",
            "0  0  0  0  0  0  0  0  0  0\n",
            "0  0  0  0  0  0  0  0  0  0\n",
            "0  0  0  0  0  0  0  0  0  0\n",
            "0  0  0  0  0  0  0  0  0  0\n",
            "0  0  0  0  0  0  0  0  0  0\n",
            "0  0  0  0  0  0  0  0  0  0\n",
            "-  -  -  -  -  -  -  -  -  -\n"
          ]
        }
      ]
    },
    {
      "cell_type": "markdown",
      "source": [
        "Question 6:\n",
        "\n",
        "initialize the first row and first column"
      ],
      "metadata": {
        "id": "Kc7sijwQ1hqk"
      }
    },
    {
      "cell_type": "code",
      "source": [
        "def alignment_table(sequence1,sequence2):\n",
        "  m = len(sequence1)\n",
        "  n = len(sequence2)\n",
        "  table = []\n",
        "  for i in range(m +1):\n",
        "    sub = []\n",
        "    for j in range(n +1):\n",
        "      sub.append(0)\n",
        "    table.append(sub)\n",
        "  for j in range(1,n+1):\n",
        "    table[0][j] = table[0][j-1]-1\n",
        "\n",
        "  for i in range(1,m+1):\n",
        "    table[i][0]= table[i-1][0]-1\n",
        "  return table\n",
        "\n",
        "\n",
        "print('The updated table with dimension 10 and 8 for the sequence alignment is: ')\n",
        "alignment_table('AATTATATT', 'ACGTTAT')"
      ],
      "metadata": {
        "colab": {
          "base_uri": "https://localhost:8080/"
        },
        "id": "1EPAdO2DPDmJ",
        "outputId": "3ce1746c-abb1-4222-8b52-8fe91cc4c193"
      },
      "execution_count": null,
      "outputs": [
        {
          "output_type": "stream",
          "name": "stdout",
          "text": [
            "The updated table with dimension 10 and 8 for the sequence alignment is: \n"
          ]
        },
        {
          "output_type": "execute_result",
          "data": {
            "text/plain": [
              "[[0, -1, -2, -3, -4, -5, -6, -7],\n",
              " [-1, 0, 0, 0, 0, 0, 0, 0],\n",
              " [-2, 0, 0, 0, 0, 0, 0, 0],\n",
              " [-3, 0, 0, 0, 0, 0, 0, 0],\n",
              " [-4, 0, 0, 0, 0, 0, 0, 0],\n",
              " [-5, 0, 0, 0, 0, 0, 0, 0],\n",
              " [-6, 0, 0, 0, 0, 0, 0, 0],\n",
              " [-7, 0, 0, 0, 0, 0, 0, 0],\n",
              " [-8, 0, 0, 0, 0, 0, 0, 0],\n",
              " [-9, 0, 0, 0, 0, 0, 0, 0]]"
            ]
          },
          "metadata": {},
          "execution_count": 7
        }
      ]
    },
    {
      "cell_type": "markdown",
      "source": [
        "Part II: Advancing alignment table computing for global alignment"
      ],
      "metadata": {
        "id": "45zzKRWa3Shp"
      }
    },
    {
      "cell_type": "code",
      "source": [
        "def buildNWTable(X, Y, match= 1, mismatch= -1, gap=-1):\n",
        "  print('sequence 1: ', X)\n",
        "  print('sequence 2: ', Y)\n",
        "  opt= alignment_table(X, Y)\n",
        "  print(\"The initial alignment table is: \", '\\n')\n",
        "  print(tabulate(opt))\n",
        "  for i in range(1,len(X)+1):\n",
        "    for j in range(1,len(Y)+1):\n",
        "      if X[i-1] == Y[j-1]:\n",
        "        case1 = opt[i-1][j-1]+ match\n",
        "      else:\n",
        "        case1 = opt[i-1][j-1]+ mismatch\n",
        "      case2 = opt[i-1][j]+ gap\n",
        "      case3 = opt[i][j-1]+ gap\n",
        "      opt[i][j] = max([case1, case2, case3])\n",
        "  print(\"The final alignment table is: \", '\\n')\n",
        "  return opt\n",
        "\n",
        "X = 'ACATGTGA'\n",
        "Y = 'AAGGA'\n",
        "buildNWTable(X,Y)"
      ],
      "metadata": {
        "colab": {
          "base_uri": "https://localhost:8080/"
        },
        "id": "3adEgGr3MuC_",
        "outputId": "36b2c652-5b38-4452-b62d-09b9fc6e71fc"
      },
      "execution_count": null,
      "outputs": [
        {
          "output_type": "stream",
          "name": "stdout",
          "text": [
            "sequence 1:  ACATGTGA\n",
            "sequence 2:  AAGGA\n",
            "The initial alignment table is:  \n",
            "\n",
            "--  --  --  --  --  --\n",
            " 0  -1  -2  -3  -4  -5\n",
            "-1   0   0   0   0   0\n",
            "-2   0   0   0   0   0\n",
            "-3   0   0   0   0   0\n",
            "-4   0   0   0   0   0\n",
            "-5   0   0   0   0   0\n",
            "-6   0   0   0   0   0\n",
            "-7   0   0   0   0   0\n",
            "-8   0   0   0   0   0\n",
            "--  --  --  --  --  --\n",
            "The final alignment table is:  \n",
            "\n"
          ]
        },
        {
          "output_type": "execute_result",
          "data": {
            "text/plain": [
              "[[0, -1, -2, -3, -4, -5],\n",
              " [-1, 1, 0, -1, -2, -3],\n",
              " [-2, 0, 0, -1, -2, -3],\n",
              " [-3, -1, 1, 0, -1, -1],\n",
              " [-4, -2, 0, 0, -1, -2],\n",
              " [-5, -3, -1, 1, 1, 0],\n",
              " [-6, -4, -2, 0, 0, 0],\n",
              " [-7, -5, -3, -1, 1, 0],\n",
              " [-8, -6, -4, -2, 0, 2]]"
            ]
          },
          "metadata": {},
          "execution_count": 9
        }
      ]
    },
    {
      "cell_type": "markdown",
      "source": [
        "Part III: Reconstructing the optimal alignment"
      ],
      "metadata": {
        "id": "QjWQBFjr45_0"
      }
    },
    {
      "cell_type": "code",
      "source": [
        "def NWTraceBack(X, Y, match=1, mismatch=-1, gap=-1):\n",
        "  first = \"\"        # alignment for X\n",
        "  second = \"\"       # alignment for Y\n",
        "  score = 0\n",
        "  table = buildNWTable(X,Y)\n",
        "  print(tabulate(table))\n",
        "  col_start = len(Y)\n",
        "  row_start = len(X)\n",
        "  while col_start>0 or row_start>0:\n",
        "    if X[row_start-1] == Y[col_start-1]:\n",
        "      case1 = table[row_start-1][col_start-1]+ match\n",
        "    else:\n",
        "      case1 = table[row_start-1][col_start-1]+ mismatch\n",
        "    case2 = table[row_start-1][col_start]+ gap\n",
        "    case3 = table[row_start][col_start-1]+ gap\n",
        "    if case1 == table[row_start][col_start]:\n",
        "      first += X[row_start-1]\n",
        "      second += Y[col_start-1]\n",
        "      row_start -=1\n",
        "      col_start -=1\n",
        "\n",
        "    elif case2 == table[row_start][col_start]:\n",
        "      first += X[row_start-1]\n",
        "      second += '-'\n",
        "      row_start -=1\n",
        "    elif case3 == table[row_start][col_start]:\n",
        "      first += '-'\n",
        "      second += Y[col_start-1]\n",
        "      col_start -=1\n",
        "  first = first[::-1]\n",
        "  second = second[::-1]\n",
        "  for i in range(len(first)):\n",
        "    if first[i] == second[i]:\n",
        "      score +=1\n",
        "    else:\n",
        "      score += -1\n",
        "  print(\"The score of optimal alignment is: \", score, '\\n')\n",
        "  return first,second\n",
        "\n",
        "\n",
        "X = 'ACATGTGA'\n",
        "Y = 'AAGGA'\n",
        "seq1,seq2 = NWTraceBack(X,Y)\n",
        "print('The best alignment is: ')\n",
        "print(*seq1)\n",
        "print(*seq2)\n",
        "\n",
        "\n",
        "\n"
      ],
      "metadata": {
        "colab": {
          "base_uri": "https://localhost:8080/"
        },
        "id": "CImRS9s6jSCn",
        "outputId": "438750ee-ab5e-4d04-8114-415a49901c99"
      },
      "execution_count": null,
      "outputs": [
        {
          "output_type": "stream",
          "name": "stdout",
          "text": [
            "sequence 1:  ACATGTGA\n",
            "sequence 2:  AAGGA\n",
            "The initial alignment table is:  \n",
            "\n",
            "--  --  --  --  --  --\n",
            " 0  -1  -2  -3  -4  -5\n",
            "-1   0   0   0   0   0\n",
            "-2   0   0   0   0   0\n",
            "-3   0   0   0   0   0\n",
            "-4   0   0   0   0   0\n",
            "-5   0   0   0   0   0\n",
            "-6   0   0   0   0   0\n",
            "-7   0   0   0   0   0\n",
            "-8   0   0   0   0   0\n",
            "--  --  --  --  --  --\n",
            "The final alignment table is:  \n",
            "\n",
            "--  --  --  --  --  --\n",
            " 0  -1  -2  -3  -4  -5\n",
            "-1   1   0  -1  -2  -3\n",
            "-2   0   0  -1  -2  -3\n",
            "-3  -1   1   0  -1  -1\n",
            "-4  -2   0   0  -1  -2\n",
            "-5  -3  -1   1   1   0\n",
            "-6  -4  -2   0   0   0\n",
            "-7  -5  -3  -1   1   0\n",
            "-8  -6  -4  -2   0   2\n",
            "--  --  --  --  --  --\n",
            "The score of optimal alignment is:  2 \n",
            "\n",
            "The best alignment is: \n",
            "A C A T G T G A\n",
            "A - A - G - G A\n"
          ]
        }
      ]
    }
  ]
}