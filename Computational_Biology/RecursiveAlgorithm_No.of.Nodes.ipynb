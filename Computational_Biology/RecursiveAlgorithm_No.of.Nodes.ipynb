{
  "nbformat": 4,
  "nbformat_minor": 0,
  "metadata": {
    "colab": {
      "provenance": []
    },
    "kernelspec": {
      "name": "python3",
      "display_name": "Python 3"
    },
    "language_info": {
      "name": "python"
    }
  },
  "cells": [
    {
      "cell_type": "markdown",
      "source": [
        "produce a working implementation of the recursive algorithm to calculate \n",
        "\n",
        "(1) Number of nodes in a tree. \n",
        "\n",
        "(2) Height of tree. \n",
        "\n",
        "(3) Leaf nodes in a tree."
      ],
      "metadata": {
        "id": "nCWibdF2d6-t"
      }
    },
    {
      "cell_type": "markdown",
      "source": [
        "Function to get Node count"
      ],
      "metadata": {
        "id": "_4NwzL1rerhF"
      }
    },
    {
      "cell_type": "code",
      "execution_count": null,
      "metadata": {
        "id": "JMm2yaHAds7_"
      },
      "outputs": [],
      "source": [
        "def countNodes(tree):\n",
        "    root,first,second = tree    \n",
        "    if first == second == ():\n",
        "        return 1     \n",
        "    else:\n",
        "        return 1 + countNodes(first) + countNodes(second)\n",
        "\n",
        "def height(tree):\n",
        "    root,first,second = tree    \n",
        "    if first == second == ():\n",
        "        return 0     \n",
        "    else:\n",
        "        return 1 + max(height(first), height(second))\n",
        "\n",
        "def leafList(tree):\n",
        "    root,first,second = tree    \n",
        "    if first == second == ():\n",
        "        return [ root ]       \n",
        "    else:\n",
        "        return leafList(first) + leafList(second)\n",
        "\n"
      ]
    },
    {
      "cell_type": "markdown",
      "source": [
        "Question 1:"
      ],
      "metadata": {
        "id": "QL00eoxmeQUD"
      }
    },
    {
      "cell_type": "code",
      "source": [
        "tree1 = ('A',\n",
        "     ('B',\n",
        "          ('C',(),()),\n",
        "          ('D',(),())\n",
        "     ),\n",
        "     ('E',(),())\n",
        ")\n",
        "\n",
        "same_tree = ('A', ('B', ('C',(),()), ('D',(),()) ), ('E',(),()) )\n",
        "\n",
        "print(\"Number of nodes in tree 1 is: \",countNodes(tree1))\n",
        "print(\"Number of nodes in same_tree: \",countNodes(same_tree))\n",
        "print(\"Height of the tree 1 is : \", height(tree1))\n",
        "print(\"leaf Nodes in the tree 1 are: \", leafList(tree1) )"
      ],
      "metadata": {
        "colab": {
          "base_uri": "https://localhost:8080/"
        },
        "id": "Mnj_UTTXeRMK",
        "outputId": "348e2788-2b6a-4c5a-d6e4-167ab0bef21b"
      },
      "execution_count": null,
      "outputs": [
        {
          "output_type": "stream",
          "name": "stdout",
          "text": [
            "Number of nodes in tree 1 is:  5\n",
            "Number of nodes in same_tree:  5\n",
            "Height of the tree 1 is :  2\n",
            "leaf Nodes in the tree 1 are:  ['C', 'D', 'E']\n"
          ]
        }
      ]
    },
    {
      "cell_type": "markdown",
      "source": [
        "Question 2:"
      ],
      "metadata": {
        "id": "x81PUH8ceWxy"
      }
    },
    {
      "cell_type": "code",
      "source": [
        "tree2 = ('A',('B',('D',(),()),('E',(),())),('C',('F',(),()),('G',(),())))\n",
        "\n",
        "print(\"Tuple representation for Question 2: \", tree2)\n",
        "print(\"Number of nodes in tree 2 is: \",countNodes(tree2))\n",
        "print(\"Height of the tree 2 is : \", height(tree2))\n",
        "print(\"Leaf Nodes in the tree 2 are: \", leafList(tree2) )"
      ],
      "metadata": {
        "colab": {
          "base_uri": "https://localhost:8080/"
        },
        "id": "a8TqACBgeXeS",
        "outputId": "f25717ee-4b67-4d94-8e64-4aae9ea72734"
      },
      "execution_count": null,
      "outputs": [
        {
          "output_type": "stream",
          "name": "stdout",
          "text": [
            "Tuple representation for Question 2:  ('A', ('B', ('D', (), ()), ('E', (), ())), ('C', ('F', (), ()), ('G', (), ())))\n",
            "Number of nodes in tree 2 is:  7\n",
            "Height of the tree 2 is :  2\n",
            "Leaf Nodes in the tree 2 are:  ['D', 'E', 'F', 'G']\n"
          ]
        }
      ]
    },
    {
      "cell_type": "markdown",
      "source": [
        "Question 3:"
      ],
      "metadata": {
        "id": "EflBeEWPykY8"
      }
    },
    {
      "cell_type": "code",
      "source": [
        "tree3 = ('A',('B',(),()),('C',('D',('E',(),()),('F',(),())),('G',(),())))\n",
        "\n",
        "print(\"Tuple representation for Question 3: \", tree3)\n",
        "print(\"Number of nodes in tree 3 is: \",countNodes(tree3))\n",
        "print(\"Height of the tree 3 is : \", height(tree3))\n",
        "print(\"Leaf Nodes in the tree 3 are: \", leafList(tree3) )"
      ],
      "metadata": {
        "colab": {
          "base_uri": "https://localhost:8080/"
        },
        "id": "cq6RdK4kym7s",
        "outputId": "caa03ed0-04ce-4da8-b7d4-7e7fadf2757c"
      },
      "execution_count": null,
      "outputs": [
        {
          "output_type": "stream",
          "name": "stdout",
          "text": [
            "Tuple representation for Question 3:  ('A', ('B', (), ()), ('C', ('D', ('E', (), ()), ('F', (), ())), ('G', (), ())))\n",
            "Number of nodes in tree 3 is:  7\n",
            "Height of the tree 3 is :  3\n",
            "Leaf Nodes in the tree 3 are:  ['B', 'E', 'F', 'G']\n"
          ]
        }
      ]
    },
    {
      "cell_type": "markdown",
      "source": [
        "Question 4:"
      ],
      "metadata": {
        "id": "ITCgXyDD1u4t"
      }
    },
    {
      "cell_type": "code",
      "source": [
        "tree4 = ('A',('B',('C',(),()),('D',(),())),('E',('F',(),()),('G',('H',(),()),('I',(),()))))\n",
        "\n",
        "print(\"Tuple representation for Question 4: \", tree4)\n",
        "print(\"Number of nodes in tree 4 is: \",countNodes(tree4))\n",
        "print(\"Height of the tree 4 is : \", height(tree4))\n",
        "print(\"Leaf Nodes in the tree 4 are: \", leafList(tree4))"
      ],
      "metadata": {
        "colab": {
          "base_uri": "https://localhost:8080/"
        },
        "id": "4WYObnpF1xY9",
        "outputId": "886c0597-195a-429f-e60a-4d0127841f07"
      },
      "execution_count": null,
      "outputs": [
        {
          "output_type": "stream",
          "name": "stdout",
          "text": [
            "Tuple representation for Question 4:  ('A', ('B', ('C', (), ()), ('D', (), ())), ('E', ('F', (), ()), ('G', ('H', (), ()), ('I', (), ()))))\n",
            "Number of nodes in tree 4 is:  9\n",
            "Height of the tree 4 is :  3\n",
            "Leaf Nodes in the tree 4 are:  ['C', 'D', 'F', 'H', 'I']\n"
          ]
        }
      ]
    },
    {
      "cell_type": "markdown",
      "source": [
        "Question 5:"
      ],
      "metadata": {
        "id": "F8PKdE282IOW"
      }
    },
    {
      "cell_type": "code",
      "source": [
        "tree5 = ('A',('B',(),()),('C',('D',(),()),('E',('F',(),()),('G',(),()))))\n",
        "\n",
        "print(\"Tuple representation for Question 5: \", tree5)\n",
        "print(\"Number of nodes in tree 5 is: \",countNodes(tree5))\n",
        "print(\"Height of the tree 5 is : \", height(tree5))\n",
        "print(\"Leaf Nodes in the tree 5 are: \", leafList(tree5) )"
      ],
      "metadata": {
        "colab": {
          "base_uri": "https://localhost:8080/"
        },
        "id": "DNK21CQq2KnJ",
        "outputId": "74d542ff-d52c-4a2d-cb53-5ca08c3532a0"
      },
      "execution_count": null,
      "outputs": [
        {
          "output_type": "stream",
          "name": "stdout",
          "text": [
            "Tuple representation for Question 5:  ('A', ('B', (), ()), ('C', ('D', (), ()), ('E', ('F', (), ()), ('G', (), ()))))\n",
            "Number of nodes in tree 5 is:  7\n",
            "Height of the tree 5 is :  3\n",
            "Leaf Nodes in the tree 5 are:  ['B', 'D', 'F', 'G']\n"
          ]
        }
      ]
    },
    {
      "cell_type": "markdown",
      "source": [
        "Question 6:"
      ],
      "metadata": {
        "id": "G4vcDYgR2T3j"
      }
    },
    {
      "cell_type": "code",
      "source": [
        "tree6 = ('A',('B',('C',(),()),('D',('E',(),()),('F',(),()))),('G',(),()))\n",
        "\n",
        "print(\"Tuple representation for Question 6: \", tree6)\n",
        "print(\"Number of nodes in tree 6 is: \",countNodes(tree6))\n",
        "print(\"Height of the tree 6 is : \", height(tree6))\n",
        "print(\"Leaf Nodes in the tree 6 are: \", leafList(tree6) )"
      ],
      "metadata": {
        "colab": {
          "base_uri": "https://localhost:8080/"
        },
        "id": "wopXOcM-2Wsj",
        "outputId": "3a2907eb-18f8-4722-e763-72a00a5025fe"
      },
      "execution_count": null,
      "outputs": [
        {
          "output_type": "stream",
          "name": "stdout",
          "text": [
            "Tuple representation for Question 6:  ('A', ('B', ('C', (), ()), ('D', ('E', (), ()), ('F', (), ()))), ('G', (), ()))\n",
            "Number of nodes in tree 6 is:  7\n",
            "Height of the tree 6 is :  3\n",
            "Leaf Nodes in the tree 6 are:  ['C', 'E', 'F', 'G']\n"
          ]
        }
      ]
    },
    {
      "cell_type": "markdown",
      "source": [
        "Question 7:"
      ],
      "metadata": {
        "id": "ADqmkFOO2ebk"
      }
    },
    {
      "cell_type": "code",
      "source": [
        "tree7 = ('A',('B',('C',(),()),('D',('E',('F',(),()),('G',(),())),('H',(),()))),('I',(),()))\n",
        "\n",
        "print(\"Tuple representation for Question 7: \", tree7)\n",
        "print(\"Number of nodes in tree 7 is: \",countNodes(tree7))\n",
        "print(\"Height of the tree 7 is : \", height(tree7))\n",
        "print(\"Leaf Nodes in the tree 7 are: \", leafList(tree7) )"
      ],
      "metadata": {
        "colab": {
          "base_uri": "https://localhost:8080/"
        },
        "id": "QeEikZeW2ggt",
        "outputId": "56036360-022d-4090-d355-5889476afaad"
      },
      "execution_count": null,
      "outputs": [
        {
          "output_type": "stream",
          "name": "stdout",
          "text": [
            "Tuple representation for Question 7:  ('A', ('B', ('C', (), ()), ('D', ('E', ('F', (), ()), ('G', (), ())), ('H', (), ()))), ('I', (), ()))\n",
            "Number of nodes in tree 7 is:  9\n",
            "Height of the tree 7 is :  4\n",
            "Leaf Nodes in the tree 7 are:  ['C', 'F', 'G', 'H', 'I']\n"
          ]
        }
      ]
    }
  ]
}