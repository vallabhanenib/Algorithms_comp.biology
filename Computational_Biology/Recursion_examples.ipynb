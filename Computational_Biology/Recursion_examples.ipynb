{
  "nbformat": 4,
  "nbformat_minor": 0,
  "metadata": {
    "colab": {
      "provenance": []
    },
    "kernelspec": {
      "name": "python3",
      "display_name": "Python 3"
    },
    "language_info": {
      "name": "python"
    }
  },
  "cells": [
    {
      "cell_type": "markdown",
      "source": [
        "**Question 1:**\n",
        "\n",
        "**Task 1:** \n",
        "The problem is divided into small subproblems, and the same algorithm is used to solve the sub problem. But the problem cannot be divided into smaller sub problems endlessly. When implementing the recursion there will be base case and non-base case to solve the problem. \n",
        "\n",
        "Base Case is a case where a recursive algorithm completes without applying itself to a smaller subproblem and a non-base case is where recursive logic exists.\n",
        "\n",
        "Here **if n==1** it will **return 1** this a base case\n",
        "Here in base case it will not be divided again into subproblems, else it will return n*factorial(n-1) is Non- base case where the actual recursion logic occurs that means funtion will be called by itself recursively until it reaches to base-case.\n"
      ],
      "metadata": {
        "id": "Ny2K6dSpMbzU"
      }
    },
    {
      "cell_type": "markdown",
      "source": [
        "**Task 2:**"
      ],
      "metadata": {
        "id": "iE0FbyuLfQD7"
      }
    },
    {
      "cell_type": "code",
      "source": [
        "def factorial(n):\n",
        "  if n == 1:                   # base case\n",
        "    return 1\n",
        "  else:\n",
        "    return n*factorial(n-1)    # nonbase-case: factorial function will be called recursively\n",
        "    \n",
        "n = 6\n",
        "print(\"Factorial of\", n, \"is\", factorial(n))\n"
      ],
      "metadata": {
        "colab": {
          "base_uri": "https://localhost:8080/"
        },
        "id": "duE4pziWMnGN",
        "outputId": "ccb891e1-d698-43d8-ed37-d3a899fcf68a"
      },
      "execution_count": null,
      "outputs": [
        {
          "output_type": "stream",
          "name": "stdout",
          "text": [
            "Factorial of 6 is 720\n"
          ]
        }
      ]
    },
    {
      "cell_type": "markdown",
      "source": [
        "**Question 2**: Complete the following python program to compute the sum of numbers recursively.\n",
        "\n",
        "**Task 1:** Here to get the sum for n value recursively if n <= 1 will be base case. if given n value is <=1 there is nothing to call the function recursively. if it is > 1 then it will add numbers recursively by calling the same function. so this is non-base case."
      ],
      "metadata": {
        "id": "UDCklANdOdT9"
      }
    },
    {
      "cell_type": "markdown",
      "source": [
        "**Task 2:**"
      ],
      "metadata": {
        "id": "6vFEiFWrgz4k"
      }
    },
    {
      "cell_type": "code",
      "execution_count": null,
      "metadata": {
        "colab": {
          "base_uri": "https://localhost:8080/"
        },
        "id": "vf05nxbDr0zs",
        "outputId": "c461e28b-a0e6-4f2b-a942-9e4980347c78"
      },
      "outputs": [
        {
          "output_type": "stream",
          "name": "stdout",
          "text": [
            "55\n"
          ]
        }
      ],
      "source": [
        "def get_sum(n):\n",
        "   if n <= 1:                    # base-case\n",
        "       return n\n",
        "   else:\n",
        "       return n + get_sum(n-1)   # nonbase-case\n",
        "\n",
        "n = 10\n",
        "r= get_sum(n)\n",
        "print(r)"
      ]
    },
    {
      "cell_type": "markdown",
      "source": [
        "**Question 3**. Complete the following python program to get the maximum number in a list recursively.\n",
        "\n",
        "**Task 1:** Here to get the maximum number from a given list if len(x) == 1 will be base case. if given list length is =1 there is nothing to call the function recursively. if it is > 1 then it will check for the maximum number recursively by calling the same function and return the value so this is non-base case."
      ],
      "metadata": {
        "id": "MdA6I6Wur8V0"
      }
    },
    {
      "cell_type": "markdown",
      "source": [
        "**Task 2:**"
      ],
      "metadata": {
        "id": "SP4bfAIEjrbQ"
      }
    },
    {
      "cell_type": "code",
      "source": [
        "def get_maximum(x):\n",
        "    if len(x) == 1:                             # base-case\n",
        "        return x[0]\n",
        "    else:\n",
        "        a = get_maximum(x[1:])\n",
        "        return a if a > x[0] else x[0]          # nonbase-case here if a> index 0 then it will return 'a' if not it will return index 0\n",
        "                                                 \n",
        "\n",
        "x = [2,6,1,3,4,7]\n",
        "r = get_maximum(x)\n",
        "print(r)"
      ],
      "metadata": {
        "colab": {
          "base_uri": "https://localhost:8080/"
        },
        "id": "M9lvU1mmsSlR",
        "outputId": "250a1079-ecb3-47ba-fade-0878a85f11e5"
      },
      "execution_count": null,
      "outputs": [
        {
          "output_type": "stream",
          "name": "stdout",
          "text": [
            "7\n"
          ]
        }
      ]
    },
    {
      "cell_type": "markdown",
      "source": [
        "**Question 4:** All Occurrences of a Pattern in a String\n",
        "\n",
        "Here if len(sequence)- j that is index is < len(pattern) it will return the index location, this is the base-case. If sequence index is equal to pattern index then it will move recursively by calling function to find the exact pattern match, this is a non-base case, and if it found the match the starting index number will be appended to the location.  "
      ],
      "metadata": {
        "id": "2WBapvV_PDdF"
      }
    },
    {
      "cell_type": "code",
      "source": [
        "def Pattern_Match(j,Pattern, sequence, location = []):\n",
        "  n= len(sequence)\n",
        "  m= len(Pattern)\n",
        "  if (n-j < m):\n",
        "        return location                         #base-case\n",
        "  else:\n",
        "    if sequence[j:m+ j] != Pattern:\n",
        "      return Pattern_Match(j+1, Pattern, sequence)\n",
        "    else:\n",
        "      if sequence[j:m + j]== Pattern:\n",
        "        location.append(j)\n",
        "        return Pattern_Match(j+1,Pattern,sequence)         # nonbase-case\n"
      ],
      "metadata": {
        "id": "vqdZMxgPPGH6"
      },
      "execution_count": null,
      "outputs": []
    },
    {
      "cell_type": "markdown",
      "source": [
        "Find all occurrences of a pattern in a string\n",
        "\n",
        "for a given Example Dataset"
      ],
      "metadata": {
        "id": "8oDi3DUbk7Kj"
      }
    },
    {
      "cell_type": "code",
      "source": [
        "Pattern = \"ATAT\"\n",
        "sequence = \"GATATATGCATATACTT\"\n",
        "r= Pattern_Match(0,Pattern, sequence)\n",
        "print(*r)"
      ],
      "metadata": {
        "colab": {
          "base_uri": "https://localhost:8080/"
        },
        "id": "KufQGdOmlJFk",
        "outputId": "06e21795-4236-4be8-e5b4-955b091fbfa1"
      },
      "execution_count": null,
      "outputs": [
        {
          "output_type": "stream",
          "name": "stdout",
          "text": [
            "1 3 9\n"
          ]
        }
      ]
    },
    {
      "cell_type": "markdown",
      "source": [
        "For test set 1"
      ],
      "metadata": {
        "id": "mWu0XbDjlTWR"
      }
    },
    {
      "cell_type": "code",
      "source": [
        "import time\n",
        "import sys\n",
        "sys.setrecursionlimit(10000)\n",
        "\n",
        "with open('lab2_problem4_dataset1.txt') as data1:\n",
        "  text1 = data1.readlines()\n",
        "  start = time.time()\n",
        "  Pattern1 = text1[0].rstrip()\n",
        "  sequence1 = text1[1].rstrip()\n",
        "  test_set1= Pattern_Match(0,Pattern1, sequence1)\n",
        "  stop = time.time()\n",
        "  total_time = stop - start\n",
        "  print(*test_set1) \n",
        "  print(\"Time taken to run test set_1: \"+ str(total_time))"
      ],
      "metadata": {
        "colab": {
          "base_uri": "https://localhost:8080/"
        },
        "id": "tWwlVuMdMKOj",
        "outputId": "dcbf105f-724c-4388-9ad5-813f97266c5d"
      },
      "execution_count": null,
      "outputs": [
        {
          "output_type": "stream",
          "name": "stdout",
          "text": [
            "10 17 24 31 38 45 71 90 106 161 232 265 311 326 421 488 495 638 645 664 695 722 739 755 782 817 848 884 910 932 950 1083 1125 1202 1209 1276 1388 1415 1460 1481 1513 1551 1586 1603 1650 1657 1664 1671 1678 1686 1828 1835 1852 1888 1987 1994 2023 2038 2125 2133 2408 2428 2459 2466 2542 2551 2558 2565 2587 2594 2607 2657 2683 2713 2720 2727 2742 2780 2788 2863 2884 2892 2899 2906 2922 2994 3001 3016 3031 3038 3086 3127 3146 3161 3168 3186 3329 3336 3477 3523 3645 3662 3684 3741 3748 3763 3770 3818 3826 3853 3860 3889 3927 3937 3945 3952 3959 3978 4003 4010 4017 4079 4099 4106 4113 4120 4127 4173 4209 4251 4258 4298 4305 4312 4328 4349 4448 4463 4540 4547 4554 4577 4584 4599 4616 4644 4671 4715 4723 4760 4782 4800 4807 4893 4963 4981 4996 5027 5034 5142 5150 5170 5190 5257 5264 5328 5336 5420 5555 5608 5677 5684 5694 5773 5791 5806 5813 5833 5865 5895 5910 5917 5945 5966 6008 6054 6070 6077 6097 6115 6122 6227 6282 6300 6307 6323 6353 6397 6436 6454 6551 6628 6639 6657 6664 6707 6838 6881 6919 6929 6944 7107 7114 7161 7212 7329 7359 7366 7396 7412 7430 7467 7483 7505 7554 7562 7606 7657 7665 7689 7717 7741 7748 7755 7762 7778 7794 7804 7812 7854 7870 7897 7924 7949 7988 7995 8003 8054 8112 8166 8173 8190 8219 8235 8245 8284 8291 8299 8354 8420 8427 8469 8585 8609 8625 8654 8671 8678 8731 8748 8770 8778 8787 8803 8810 8852 8878 8948 8955 8962 8969 9014 9031 9038 9058 9104 9112 9159 9186 9250 9270 9290 9318 9338 9419 9426 9537 9544 9560 9568 9584 9591 9636 9643 9650 9679 9687 9843\n",
            "Time taken to run test set_1: 0.022340059280395508\n"
          ]
        }
      ]
    },
    {
      "cell_type": "markdown",
      "source": [
        "For Test set 2"
      ],
      "metadata": {
        "id": "loQZAjjKlcAJ"
      }
    },
    {
      "cell_type": "code",
      "source": [
        "with open('lab2_problem4_dataset2.txt') as data2:\n",
        "  text2 = data2.readlines()\n",
        "  start = time.time()\n",
        "  Pattern2 = text2[0].rstrip()\n",
        "  sequence2 = text2[1].rstrip()\n",
        "  test_set2= Pattern_Match(0,Pattern2, sequence2)\n",
        "  stop = time.time()\n",
        "  total_time = stop - start\n",
        "  print(*test_set2)\n",
        "  print(\"Time taken to run test set_2: \"+ str(total_time)) "
      ],
      "metadata": {
        "colab": {
          "base_uri": "https://localhost:8080/"
        },
        "id": "iTwZ51KXOIZQ",
        "outputId": "941f4f2b-11cd-4a05-a3fe-fbcea3034e9e"
      },
      "execution_count": null,
      "outputs": [
        {
          "output_type": "stream",
          "name": "stdout",
          "text": [
            "6 21 50 115 159 204 252 272 279 352 380 387 403 419 489 584 610 628 682 738 745 781 788 947 999 1014 1021 1066 1137 1166 1184 1230 1237 1300 1334 1341 1356 1390 1425 1441 1501 1525 1550 1567 1574 1593 1621 1628 1647 1687 1694 1701 1708 1715 1722 1751 1767 1855 1862 1976 2004 2054 2088 2095 2140 2147 2170 2177 2216 2257 2318 2368 2441 2448 2455 2481 2517 2524 2545 2552 2559 2652 2659 2687 2729 2736 2775 2815 2830 2837 2954 2961 3000 3009 3024 3033 3054 3071 3078 3085 3100 3163 3206 3213 3239 3278 3328 3466 3531 3538 3565 3582 3589 3596 3603 3697 3725 3732 3739 3776 3799 3806 3825 3917 3940 3988 4024 4031 4040 4055 4209 4219 4261 4276 4339 4382 4438 4514 4564 4741 4757 4764 4845 4871 4878 4892 4901 4916 4939 4965 4996 5003 5028 5035 5112 5195 5202 5251 5258 5379 5397 5404 5434 5449 5494 5501 5535 5580 5587 5630 5692 5703 5754 5761 5768 5786 5824 5863 5906 5933 5972 5979 5986 6019 6034 6041 6048 6055 6062 6188 6252 6306 6313 6336 6357 6364 6400 6491 6498 6505 6556 6586 6635 6673 6680 6687 6729 6744 6751 6790 6843 6850 6857 6864 6892 6911 6945 6990 7065 7115 7157 7240 7247 7358 7427 7459 7589 7617 7624 7672 7784 7799 7806 7828 7835 7939 8036 8081 8219 8326 8333 8358 8365 8397 8404 8432 8447 8464 8491 8506 8547 8571 8593 8617 8632 8680 8695 8702 8763 8770 8777 8806 8821 8828 8883 9003 9084 9101 9108 9115 9144 9160 9179 9193 9200 9228 9235 9242 9259 9266 9273 9288 9314 6 21 50 115 159 204 252 272 279 352 380 387 403 419 489 584 610 628 682 738 745 781 788 947 999 1014 1021 1066 1137 1166 1184 1230 1237 1300 1334 1341 1356 1390 1425 1441 1501 1525 1550 1567 1574 1593 1621 1628 1647 1687 1694 1701 1708 1715 1722 1751 1767 1855 1862 1976 2004 2054 2088 2095 2140 2147 2170 2177 2216 2257 2318 2368 2441 2448 2455 2481 2517 2524 2545 2552 2559 2652 2659 2687 2729 2736 2775 2815 2830 2837 2954 2961 3000 3009 3024 3033 3054 3071 3078 3085 3100 3163 3206 3213 3239 3278 3328 3466 3531 3538 3565 3582 3589 3596 3603 3697 3725 3732 3739 3776 3799 3806 3825 3917 3940 3988 4024 4031 4040 4055 4209 4219 4261 4276 4339 4382 4438 4514 4564 4741 4757 4764 4845 4871 4878 4892 4901 4916 4939 4965 4996 5003 5028 5035 5112 5195 5202 5251 5258 5379 5397 5404 5434 5449 5494 5501 5535 5580 5587 5630 5692 5703 5754 5761 5768 5786 5824 5863 5906 5933 5972 5979 5986 6019 6034 6041 6048 6055 6062 6188 6252 6306 6313 6336 6357 6364 6400 6491 6498 6505 6556 6586 6635 6673 6680 6687 6729 6744 6751 6790 6843 6850 6857 6864 6892 6911 6945 6990 7065 7115 7157 7240 7247 7358 7427 7459 7589 7617 7624 7672 7784 7799 7806 7828 7835 7939 8036 8081 8219 8326 8333 8358 8365 8397 8404 8432 8447 8464 8491 8506 8547 8571 8593 8617 8632 8680 8695 8702 8763 8770 8777 8806 8821 8828 8883 9003 9084 9101 9108 9115 9144 9160 9179 9193 9200 9228 9235 9242 9259 9266 9273 9288 9314\n",
            "Time taken to run test set_2: 0.011335134506225586\n"
          ]
        }
      ]
    }
  ]
}