{
  "nbformat": 4,
  "nbformat_minor": 0,
  "metadata": {
    "colab": {
      "provenance": []
    },
    "kernelspec": {
      "name": "python3",
      "display_name": "Python 3"
    },
    "language_info": {
      "name": "python"
    }
  },
  "cells": [
    {
      "cell_type": "markdown",
      "source": [
        "Load the given dataset. Read the file using CSV reader and extract the column for Reads and write into a new text file"
      ],
      "metadata": {
        "id": "56luzwfPn9k8"
      }
    },
    {
      "cell_type": "code",
      "source": [
        "import csv\n",
        "\n",
        "Given_file = \"Lab03_RNAseq_dataset.txt\"\n",
        "Reads_file = \"ReadSequences.txt\"\n",
        "with open(Given_file) as read_data:\n",
        "    with open(Reads_file, \"w\") as tmp_file:\n",
        "        reader = csv.reader(read_data, delimiter = \"\\t\")\n",
        "        writer = csv.writer(tmp_file)\n",
        "        desired_column = [1]     \n",
        "        for row in reader:     \n",
        "            Reads = list(row[i] for i in desired_column)  \n",
        "            writer.writerow(Reads) "
      ],
      "metadata": {
        "id": "SP7uWkO2oXS0"
      },
      "execution_count": null,
      "outputs": []
    },
    {
      "cell_type": "markdown",
      "source": [
        "Loding chromosome sequence"
      ],
      "metadata": {
        "id": "72YkBITwpKw6"
      }
    },
    {
      "cell_type": "code",
      "source": [
        "!wget  ftp://ftp.ensemblgenomes.org/pub/plants/release-33/fasta/zea_mays/dna/Zea_mays.AGPv4.dna.chromosome.Pt.fa.gz"
      ],
      "metadata": {
        "id": "0BrzzFwgpPp-"
      },
      "execution_count": null,
      "outputs": []
    },
    {
      "cell_type": "code",
      "source": [
        "!gzip -d Zea_mays.AGPv4.dna.chromosome.Pt.fa.gz"
      ],
      "metadata": {
        "id": "1sgiAa9BpjyO",
        "outputId": "f4e20db5-b293-45f6-9da3-850eb851383a",
        "colab": {
          "base_uri": "https://localhost:8080/"
        }
      },
      "execution_count": null,
      "outputs": [
        {
          "output_type": "stream",
          "name": "stdout",
          "text": [
            "gzip: Zea_mays.AGPv4.dna.chromosome.Pt.fa.gz: No such file or directory\n"
          ]
        }
      ]
    },
    {
      "cell_type": "markdown",
      "source": [
        "KMP algorithm \n",
        "Step 1: First define a function for KMP partial table\n",
        "Step 2: Next define a function for KMP search and use the function for KMP partial table here to get the index number"
      ],
      "metadata": {
        "id": "a87zYuNAaslz"
      }
    },
    {
      "cell_type": "code",
      "source": [
        "!pip install biopython"
      ],
      "metadata": {
        "id": "FD1WgkVkmgeX"
      },
      "execution_count": null,
      "outputs": []
    },
    {
      "cell_type": "code",
      "source": [
        "from Bio import SeqIO\n",
        "import pandas as pd\n",
        "import time\n",
        "\n",
        "def KMP_table(Pattern):\n",
        "  n = len(Pattern)\n",
        "  PMatch = [0] * n\n",
        "  k = 0\n",
        "  for i in range(1,n):\n",
        "    if Pattern[i] == Pattern[k]:\n",
        "      PMatch[i] = k+1\n",
        "      k = k +1\n",
        "    else:\n",
        "      while k > 0:\n",
        "        k = PMatch[k-1]\n",
        "        if Pattern[k] == Pattern[i]:\n",
        "          PMatch[i] = k+1\n",
        "          k = k+1\n",
        "          break\n",
        "      if k == 0:\n",
        "        if Pattern[i] == Pattern[k]:\n",
        "          PMatch[i] = k+1\n",
        "          k = k+1\n",
        "        else:\n",
        "          PMatch[i] = 0\n",
        "    return PMatch\n",
        "\n",
        "def KMP_Search(Pattern, sequence):\n",
        "  a = len(Pattern)\n",
        "  b = len(sequence)\n",
        "  PMatch = KMP_table(Pattern)\n",
        "  position = []\n",
        "  p = 0\n",
        "  q = 0\n",
        "  while p < b:\n",
        "      if sequence[p] == Pattern[q]:\n",
        "          p = p+ 1\n",
        "          q = q+ 1\n",
        "          if q == a:\n",
        "            pos = p-q\n",
        "            q = PMatch[q-1]\n",
        "            position.append(pos +1)\n",
        "            #print(\"Pattern Found!!\", sequence[pos:pos+a])\n",
        "            return position\n",
        "      else:\n",
        "        if q == 0:\n",
        "          p =p+ 1\n",
        "        else:\n",
        "          q = PMatch[q-1]\n",
        "  return position\n",
        "\n",
        "#TestCase_1\n",
        "\n",
        "with open (\"Zea_mays.AGPv4.dna.chromosome.Pt.fa\",'r') as data:\n",
        "  for seq_record  in SeqIO.parse(data,'fasta'):\n",
        "    sequence = str(seq_record.seq)\n",
        "#print(sequence)\n",
        "df = pd.DataFrame({'Reads':[], 'Start_position':[]})\n",
        "with open('ReadSequences.txt') as f:\n",
        "  Read_data = f.readlines()[1:]\n",
        "  Reads = []\n",
        "  for i in Read_data:\n",
        "    Reads.append(i.strip())\n",
        "with open(\"KMP_runtime.txt\",\"w\") as KMP:\n",
        "  for i in range(len(Reads)):\n",
        "    start = time.time()\n",
        "    Pattern = Reads[i]\n",
        "    #print(Pattern)\n",
        "    Test= KMP_Search(Pattern, sequence)\n",
        "    stop = time.time()\n",
        "    total_time = stop - start\n",
        "    KMP.write(str(total_time)+ '\\n') \n",
        "    df=df.append({'Reads':Pattern,'Start_position':Test},ignore_index=True)\n",
        "\n",
        "print('df\\n',df)\n",
        "    \n",
        " "
      ],
      "metadata": {
        "id": "nFSxnJXU0B8p"
      },
      "execution_count": null,
      "outputs": []
    },
    {
      "cell_type": "markdown",
      "source": [
        "ExactMatch algorithm"
      ],
      "metadata": {
        "id": "fV6nJqOUhnp5"
      }
    },
    {
      "cell_type": "code",
      "source": [
        "def Exact_Match(Pattern, sequence):\n",
        "  n= len(sequence)\n",
        "  m= len(Pattern)\n",
        "  for i in range(n - m +1):\n",
        "    j= 0\n",
        "    while(j < m):\n",
        "      if (sequence[i+j] != Pattern[j]):\n",
        "        break\n",
        "      j +=1\n",
        "    if(j == m):\n",
        "      print(\"Pattern found \", i)\n",
        "\n",
        "#TestCase_2\n",
        "with open (\"Zea_mays.AGPv4.dna.chromosome.Pt.fa\",'r') as data:\n",
        "  for seq_record  in SeqIO.parse(data,'fasta'):\n",
        "    sequence = str(seq_record.seq)\n",
        "#print(sequence)\n",
        "with open('ReadSequences.txt') as f:\n",
        "  Read_data = f.readlines()[1:]\n",
        "  Reads = []\n",
        "  for i in Read_data:\n",
        "    Reads.append(i.strip())\n",
        "with open(\"EM_runtime.txt\",\"w\") as EM:\n",
        "  for i in range(len(Reads)):\n",
        "    start = time.time()\n",
        "    Pattern = Reads[i]\n",
        "    print(Pattern)\n",
        "    Test_2= Exact_Match(Pattern, sequence)\n",
        "    stop = time.time()\n",
        "    total_time = stop - start\n",
        "    EM.write(str(total_time)+ '\\n')\n",
        "    #print(Test_2)\n",
        "    "
      ],
      "metadata": {
        "id": "ePdGVcPFhmIO"
      },
      "execution_count": null,
      "outputs": []
    },
    {
      "cell_type": "markdown",
      "source": [
        "Boyer-Moore algorithm : Bad character"
      ],
      "metadata": {
        "id": "X30ZSAEKdT4M"
      }
    },
    {
      "cell_type": "code",
      "source": [
        "def Bad_Character_table(Pattern,sequence):\n",
        "  bad_char_table = {}\n",
        "  for p in range(len(sequence)):\n",
        "    bad_char_table[sequence[p]] = -1\n",
        "  for q in range(len(Pattern)-1):\n",
        "    bad_char_table[Pattern[q]] = q\n",
        "  return bad_char_table\n",
        "\n",
        "def BM_Search_badcharacter(Pattern, sequence):\n",
        "  m = len(Pattern)\n",
        "  n = len(sequence)\n",
        "  bad_char_table = Bad_Character_table(Pattern, sequence)\n",
        "  i = m-1\n",
        "  location = []\n",
        "  while i < (n-m):\n",
        "    j = m-1\n",
        "    while j>=0 and sequence[i+j] == Pattern[j]:\n",
        "      j = j-1\n",
        "      #print(j)\n",
        "    if j< 0:\n",
        "      pos = i\n",
        "      location.append(pos+ 1)\n",
        "      print(\"Pattern Found\",sequence[pos:pos+m])\n",
        "      d = m+1\n",
        "    else:\n",
        "      d = max(1,j-bad_char_table[sequence[i+j]])\n",
        "    i = i + d  \n",
        "  return location\n",
        "\n",
        "#TestCase_3\n",
        "with open (\"Zea_mays.AGPv4.dna.chromosome.Pt.fa\",'r') as data:\n",
        "  for seq_record  in SeqIO.parse(data,'fasta'):\n",
        "    sequence = str(seq_record.seq)\n",
        "#print(sequence)\n",
        "with open('ReadSequences.txt') as f:\n",
        "  Read_data = f.readlines()[1:]\n",
        "  Reads = []\n",
        "  for i in Read_data:\n",
        "    Reads.append(i.strip())\n",
        "with open(\"BM_runtime.txt\",\"w\") as BM:\n",
        "  for i in range(len(Reads)):\n",
        "    start = time.time()\n",
        "    Pattern = Reads[i]\n",
        "    print(Pattern)\n",
        "    Test_3= BM_Search_badcharacter(Pattern, sequence)\n",
        "    stop = time.time()\n",
        "    total_time = stop - start\n",
        "    BM.write(str(total_time)+ '\\n')\n",
        "    #print(Test_3) "
      ],
      "metadata": {
        "id": "J2g1OOnldVZn"
      },
      "execution_count": null,
      "outputs": []
    },
    {
      "cell_type": "markdown",
      "source": [
        "Data Visualization"
      ],
      "metadata": {
        "id": "ot53rSjL4mG4"
      }
    },
    {
      "cell_type": "code",
      "source": [
        "import matplotlib.pyplot as plt\n",
        "runs = []\n",
        "KMP_time = []\n",
        "EM_time = []\n",
        "BM_bad_time = []\n",
        "\n",
        "for i in range(1,6955):\n",
        "  runs.append(i)\n",
        "with open(\"KMP_runtime.txt\") as KMP:\n",
        "  for row in KMP:\n",
        "    KMP_time.append(float(row))\n",
        "    \n",
        "with open(\"EM_runtime.txt\") as EM:\n",
        "  for row in EM:\n",
        "    EM_time.append(float(row))\n",
        "\n",
        "with open(\"BM_runtime.txt\") as BM:\n",
        "  for row in BM:\n",
        "    BM_bad_time.append(float(row))\n",
        "\n",
        "\n",
        "plt.plot(runs, KMP_time, label = \"KMP\", c = \"g\")\n",
        "plt.plot(runs, EM_time, label = \"EM\", c = \"r\")\n",
        "plt.plot(runs, BM_bad_time, label = \"BM\", c = \"b\", alpha = 0.6)\n",
        "plt.xlabel(\"Pattern order\")\n",
        "plt.ylabel(\"Time(secs)\")\n",
        "plt.legend()\n",
        "plt.show()\n",
        "\n",
        "\n"
      ],
      "metadata": {
        "colab": {
          "base_uri": "https://localhost:8080/",
          "height": 279
        },
        "id": "lS3Z0yfL4pT6",
        "outputId": "4334e4db-cfce-49d0-9a89-63bd26dbcf7e"
      },
      "execution_count": null,
      "outputs": [
        {
          "output_type": "display_data",
          "data": {
            "text/plain": [
              "<Figure size 432x288 with 1 Axes>"
            ],
            "image/png": "[encoded data removed]"
          },
          "metadata": {
            "needs_background": "light"
          }
        }
      ]
    },
    {
      "cell_type": "code",
      "source": [
        "plt.plot(runs, KMP_time, label = \"KMP\", c = \"g\")\n",
        "plt.plot(runs, EM_time, label = \"EM\", c = \"r\")\n",
        "plt.xlabel(\"Pattern order\")\n",
        "plt.ylabel(\"Time(secs)\")\n",
        "plt.legend()\n",
        "plt.show()"
      ],
      "metadata": {
        "colab": {
          "base_uri": "https://localhost:8080/",
          "height": 279
        },
        "id": "d7ocLpR6ZYoB",
        "outputId": "cb85a504-82fe-4205-ad03-fc984ef36790"
      },
      "execution_count": null,
      "outputs": [
        {
          "output_type": "display_data",
          "data": {
            "text/plain": [
              "<Figure size 432x288 with 1 Axes>"
            ],
            "image/png": "[encoded data removed]"
          },
          "metadata": {
            "needs_background": "light"
          }
        }
      ]
    },
    {
      "cell_type": "code",
      "source": [
        "plt.plot(runs, KMP_time, label = \"KMP\", c = \"g\")\n",
        "plt.plot(runs, BM_bad_time, label = \"BM\", c = \"b\", alpha = 0.6)\n",
        "plt.xlabel(\"Pattern order\")\n",
        "plt.ylabel(\"Time(secs)\")\n",
        "plt.legend()\n",
        "plt.show()"
      ],
      "metadata": {
        "colab": {
          "base_uri": "https://localhost:8080/",
          "height": 279
        },
        "id": "nvUpY-TJZsvi",
        "outputId": "5e161064-e245-426a-8662-af45eae86bfd"
      },
      "execution_count": null,
      "outputs": [
        {
          "output_type": "display_data",
          "data": {
            "text/plain": [
              "<Figure size 432x288 with 1 Axes>"
            ],
            "image/png": "[encoded data removed]"
          },
          "metadata": {
            "needs_background": "light"
          }
        }
      ]
    },
    {
      "cell_type": "code",
      "source": [
        "KMP_series = pd.Series(KMP_time)\n",
        "KMP_series.describe()"
      ],
      "metadata": {
        "colab": {
          "base_uri": "https://localhost:8080/"
        },
        "id": "-4S0PI3jNpBN",
        "outputId": "10913846-a8c0-47b8-d344-c5aa400490e0"
      },
      "execution_count": null,
      "outputs": [
        {
          "output_type": "execute_result",
          "data": {
            "text/plain": [
              "count    6954.000000\n",
              "mean        0.014693\n",
              "std         0.006805\n",
              "min         0.000462\n",
              "25%         0.015453\n",
              "50%         0.015929\n",
              "75%         0.016518\n",
              "max         0.045008\n",
              "dtype: float64"
            ]
          },
          "metadata": {},
          "execution_count": 19
        }
      ]
    },
    {
      "cell_type": "code",
      "source": [
        "EM_series = pd.Series(EM_time)\n",
        "EM_series.describe()"
      ],
      "metadata": {
        "colab": {
          "base_uri": "https://localhost:8080/"
        },
        "id": "ITYDZGDGN-K8",
        "outputId": "e307c881-487e-465a-c4ce-2d1fe3ad94f5"
      },
      "execution_count": null,
      "outputs": [
        {
          "output_type": "execute_result",
          "data": {
            "text/plain": [
              "count    6954.000000\n",
              "mean        0.041149\n",
              "std         0.006329\n",
              "min         0.034066\n",
              "25%         0.037509\n",
              "50%         0.039683\n",
              "75%         0.042854\n",
              "max         0.095205\n",
              "dtype: float64"
            ]
          },
          "metadata": {},
          "execution_count": 20
        }
      ]
    },
    {
      "cell_type": "code",
      "source": [
        "BM_bad_series = pd.Series(BM_bad_time)\n",
        "BM_bad_series.describe()"
      ],
      "metadata": {
        "colab": {
          "base_uri": "https://localhost:8080/"
        },
        "id": "WTkollWpOQZx",
        "outputId": "a4dc8809-635e-4312-a6e2-27cdfc86c743"
      },
      "execution_count": null,
      "outputs": [
        {
          "output_type": "execute_result",
          "data": {
            "text/plain": [
              "count    6954.000000\n",
              "mean        0.050323\n",
              "std         0.012196\n",
              "min         0.021079\n",
              "25%         0.044016\n",
              "50%         0.051660\n",
              "75%         0.055960\n",
              "max         0.144733\n",
              "dtype: float64"
            ]
          },
          "metadata": {},
          "execution_count": 21
        }
      ]
    }
  ]
}