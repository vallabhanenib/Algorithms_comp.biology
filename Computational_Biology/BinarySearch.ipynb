{
  "nbformat": 4,
  "nbformat_minor": 0,
  "metadata": {
    "colab": {
      "provenance": []
    },
    "kernelspec": {
      "name": "python3",
      "display_name": "Python 3"
    },
    "language_info": {
      "name": "python"
    }
  },
  "cells": [
    {
      "cell_type": "markdown",
      "source": [
        "python function to search a number in a sorted array"
      ],
      "metadata": {
        "id": "h_7Njz4ngHaZ"
      }
    },
    {
      "cell_type": "code",
      "source": [
        "def BinarySearch(array, target):\n",
        "  min = 0\n",
        "  max = len(array)-1\n",
        "  guess = 0\n",
        "  while min <= max:\n",
        "    guess = (max + min)//2\n",
        "    if array[guess] < target:\n",
        "      min = guess +1\n",
        "    elif array[guess]> target:\n",
        "      max = guess - 1\n",
        "    else:\n",
        "      return guess\n",
        "  return -1\n",
        "\n",
        "array = [2, 3, 5, 7, 11, 13, 17, 19, 23, 29, 31, 37, 41, 43, 47, 53, 59, 61, 67, 71, 73, 79, 83, 89, 97]\n",
        "target1 = 7\n",
        "test1 = BinarySearch(array, target1)\n",
        "if test1 != -1:\n",
        "    print(\"Target found at index\", str(test1))\n",
        "else: \n",
        "    print(\"Target is not present in given array\")\n",
        "\n",
        "target2 = 89\n",
        "test2 = BinarySearch(array, target2)\n",
        "if test2 != -1:\n",
        "    print(\"Target found at index\", str(test2))\n",
        "else: \n",
        "    print(\"Target is not present in given array\")\n",
        "\n",
        "target3 = 78\n",
        "test3 = BinarySearch(array, target3)\n",
        "if test3 != -1:\n",
        "    print(\"Target found at index\", str(test3))\n",
        "else: \n",
        "    print(\"Target is not present in given array\")\n",
        "\n",
        "target4 = 23\n",
        "test4 = BinarySearch(array, target4)\n",
        "if test4 != -1:\n",
        "    print(\"Target found at index\", str(test4))\n",
        "else: \n",
        "    print(\"Target is not present in given array\")\n",
        "\n",
        "target5 = 53\n",
        "test5 = BinarySearch(array, target5)\n",
        "if test5 != -1:\n",
        "    print(\"Target found at index\", str(test5))\n",
        "else: \n",
        "    print(\"Target is not present in given array\")"
      ],
      "metadata": {
        "colab": {
          "base_uri": "https://localhost:8080/"
        },
        "id": "QhxT8lE9gQ08",
        "outputId": "1aa0e679-e42c-45a6-ce22-05bb7e6ad951"
      },
      "execution_count": null,
      "outputs": [
        {
          "output_type": "stream",
          "name": "stdout",
          "text": [
            "Target found at index 3\n",
            "Target found at index 23\n",
            "Target is not present in given array\n",
            "Target found at index 8\n",
            "Target found at index 15\n"
          ]
        }
      ]
    }
  ]
}